{
 "cells": [
  {
   "cell_type": "code",
   "execution_count": 2,
   "metadata": {},
   "outputs": [
    {
     "name": "stdout",
     "output_type": "stream",
     "text": [
      "   soldierId     shipId  attackId  assists  greekFireItems  healthLost  \\\n",
      "0        0.0       24.0       0.0      0.0             5.0      247.30   \n",
      "1        1.0   440875.0       1.0      1.0             0.0       37.65   \n",
      "2        2.0   878242.0       2.0      0.0             1.0       93.73   \n",
      "3        3.0  1319841.0       3.0      0.0             0.0       95.88   \n",
      "4        4.0  1757883.0       4.0      0.0             1.0        0.00   \n",
      "\n",
      "   knockedOutSoldiers  throatSlits  healingPotionsUsed  killRank  \\\n",
      "0                 2.0          0.0                 4.0      17.0   \n",
      "1                 1.0          1.0                 0.0      45.0   \n",
      "2                 1.0          0.0                 2.0      54.0   \n",
      "3                 0.0          0.0                 0.0      86.0   \n",
      "4                 0.0          0.0                 1.0      58.0   \n",
      "\n",
      "        ...         numSaves  horseRideDistance  horseRideKills  \\\n",
      "0       ...              1.0              591.3             0.0   \n",
      "1       ...              0.0                0.0             0.0   \n",
      "2       ...              1.0                0.0             0.0   \n",
      "3       ...              0.0                0.0             0.0   \n",
      "4       ...              0.0                0.0             0.0   \n",
      "\n",
      "   swimmingDistance  friendlyKills  castleTowerDestroys  onFootDistance  \\\n",
      "0               0.0            0.0                  0.0          782.40   \n",
      "1               0.0            0.0                  0.0          119.60   \n",
      "2               0.0            0.0                  0.0         3248.00   \n",
      "3               0.0            0.0                  0.0           21.49   \n",
      "4               0.0            0.0                  0.0          640.80   \n",
      "\n",
      "   weaponsUsed  respectEarned  bestSoldierPerc  \n",
      "0          4.0         1458.0           0.8571  \n",
      "1          3.0         1511.0           0.0400  \n",
      "2          5.0         1583.0           0.7407  \n",
      "3          1.0         1489.0           0.1146  \n",
      "4          4.0         1475.0           0.5217  \n",
      "\n",
      "[5 rows x 25 columns]\n"
     ]
    }
   ],
   "source": [
    "import numpy as np\n",
    "import pandas as pd\n",
    "\n",
    "dataset = pd.read_csv('C:\\\\Users\\\\AFFAN SHAIKH\\\\Desktop\\\\workspace\\\\GOT_Battle_Of_Blackwater_v2_FINAL\\\\train.csv')\n",
    "print (dataset.head())\n",
    "\n",
    "\n",
    "Y=dataset[\"bestSoldierPerc\"]\n",
    "dataset.drop([\"soldierId\",\"shipId\",\"farthermostKill\",\"attackId\",\"bestSoldierPerc\"],axis=1,inplace=True)\n",
    "\n",
    "\n",
    "X=dataset\n",
    "\n",
    "\n",
    "X.shape\n",
    "\n",
    "from sklearn.preprocessing import StandardScaler\n",
    "sc=StandardScaler()\n",
    "X=sc.fit_transform(X)\n"
   ]
  },
  {
   "cell_type": "code",
   "execution_count": 3,
   "metadata": {},
   "outputs": [
    {
     "name": "stderr",
     "output_type": "stream",
     "text": [
      "Using TensorFlow backend.\n"
     ]
    },
    {
     "name": "stdout",
     "output_type": "stream",
     "text": [
      "_________________________________________________________________\n",
      "Layer (type)                 Output Shape              Param #   \n",
      "=================================================================\n",
      "dense_1 (Dense)              (None, 20)                420       \n",
      "_________________________________________________________________\n",
      "dense_2 (Dense)              (None, 20)                420       \n",
      "_________________________________________________________________\n",
      "dense_3 (Dense)              (None, 1)                 21        \n",
      "=================================================================\n",
      "Total params: 861\n",
      "Trainable params: 861\n",
      "Non-trainable params: 0\n",
      "_________________________________________________________________\n"
     ]
    },
    {
     "name": "stderr",
     "output_type": "stream",
     "text": [
      "C:\\Users\\AFFAN SHAIKH\\PycharmProjects\\tre\\venv\\lib\\site-packages\\ipykernel_launcher.py:22: UserWarning: The `nb_epoch` argument in `fit` has been renamed `epochs`.\n"
     ]
    },
    {
     "name": "stdout",
     "output_type": "stream",
     "text": [
      "Epoch 1/3\n",
      "4357336/4357336 [==============================] - 191s 44us/step - loss: 0.0100 - mean_absolute_error: 0.0725\n",
      "Epoch 2/3\n",
      "4357336/4357336 [==============================] - 184s 42us/step - loss: 0.0094 - mean_absolute_error: 0.0702\n",
      "Epoch 3/3\n",
      "4357336/4357336 [==============================] - 184s 42us/step - loss: 0.0093 - mean_absolute_error: 0.0698\n",
      "_________________________________________________________________\n",
      "Layer (type)                 Output Shape              Param #   \n",
      "=================================================================\n",
      "dense_4 (Dense)              (None, 20)                420       \n",
      "_________________________________________________________________\n",
      "dense_5 (Dense)              (None, 6)                 126       \n",
      "_________________________________________________________________\n",
      "dense_6 (Dense)              (None, 1)                 7         \n",
      "=================================================================\n",
      "Total params: 553\n",
      "Trainable params: 553\n",
      "Non-trainable params: 0\n",
      "_________________________________________________________________\n"
     ]
    },
    {
     "name": "stderr",
     "output_type": "stream",
     "text": [
      "C:\\Users\\AFFAN SHAIKH\\PycharmProjects\\tre\\venv\\lib\\site-packages\\ipykernel_launcher.py:32: UserWarning: The `nb_epoch` argument in `fit` has been renamed `epochs`.\n"
     ]
    },
    {
     "name": "stdout",
     "output_type": "stream",
     "text": [
      "Epoch 1/3\n",
      "4357336/4357336 [==============================] - 187s 43us/step - loss: 0.0117 - mean_absolute_error: 0.0791\n",
      "Epoch 2/3\n",
      "4357336/4357336 [==============================] - 191s 44us/step - loss: 0.0118 - mean_absolute_error: 0.0792\n",
      "Epoch 3/3\n",
      "4357336/4357336 [==============================] - 193s 44us/step - loss: 0.0120 - mean_absolute_error: 0.0796\n"
     ]
    },
    {
     "data": {
      "text/plain": [
       "<keras.callbacks.History at 0x1ea46883898>"
      ]
     },
     "execution_count": 3,
     "metadata": {},
     "output_type": "execute_result"
    }
   ],
   "source": [
    "from keras.optimizers import SGD\n",
    "from keras.optimizers import Adam\n",
    "from keras.optimizers import RMSprop\n",
    "from keras.models import Sequential\n",
    "from keras.layers import Dense\n",
    "from keras.wrappers.scikit_learn import KerasRegressor\n",
    "from sklearn.model_selection import cross_val_score\n",
    "from sklearn.model_selection import KFold\n",
    "from sklearn.preprocessing import StandardScaler\n",
    "from sklearn.pipeline import Pipeline\n",
    "from keras.layers import Dropout\n",
    "from keras import optimizers\n",
    "\n",
    "model = Sequential()\n",
    "model.add(Dense(20, input_dim=20, kernel_initializer='normal', activation='sigmoid'))\n",
    "#model.add(Dropout(0.2))\n",
    "model.add(Dense(20, kernel_initializer='normal', activation='sigmoid'))\n",
    "model.add(Dense(1, kernel_initializer='normal'))\n",
    "# Compile model\n",
    "model.compile(Adam(lr=0.01),loss='mean_squared_error',metrics=['mean_absolute_error'])\n",
    "model.summary()\n",
    "model.fit(X,Y,nb_epoch=3)\n",
    "\n",
    "model1 = Sequential()\n",
    "model1.add(Dense(20, input_dim=20, kernel_initializer='normal', activation='relu'))\n",
    "#model.add(Dropout(0.2))\n",
    "model1.add(Dense(6, kernel_initializer='normal', activation='sigmoid'))\n",
    "model1.add(Dense(1, kernel_initializer='normal'))\n",
    "# Compile model\n",
    "model1.compile(Adam(lr=0.025),loss='mean_squared_error',metrics=['mean_absolute_error'])\n",
    "model1.summary()\n",
    "model1.fit(X,Y,nb_epoch=3)\n",
    "\n",
    "\n",
    "\n",
    "\n"
   ]
  },
  {
   "cell_type": "code",
   "execution_count": 4,
   "metadata": {},
   "outputs": [
    {
     "data": {
      "text/plain": [
       "LinearRegression(copy_X=True, fit_intercept=True, n_jobs=1, normalize=False)"
      ]
     },
     "execution_count": 4,
     "metadata": {},
     "output_type": "execute_result"
    }
   ],
   "source": [
    "from sklearn.linear_model import LinearRegression\n",
    "regr = LinearRegression()\n",
    "regr.fit(X, Y)"
   ]
  },
  {
   "cell_type": "code",
   "execution_count": 5,
   "metadata": {},
   "outputs": [
    {
     "data": {
      "text/plain": [
       "RandomForestRegressor(bootstrap=True, criterion='mse', max_depth=None,\n",
       "           max_features='auto', max_leaf_nodes=None,\n",
       "           min_impurity_decrease=0.0, min_impurity_split=None,\n",
       "           min_samples_leaf=1, min_samples_split=2,\n",
       "           min_weight_fraction_leaf=0.0, n_estimators=10, n_jobs=1,\n",
       "           oob_score=False, random_state=None, verbose=0, warm_start=False)"
      ]
     },
     "execution_count": 5,
     "metadata": {},
     "output_type": "execute_result"
    }
   ],
   "source": [
    "from sklearn.ensemble import RandomForestRegressor\n",
    "rf = RandomForestRegressor()\n",
    "rf.fit(X, Y)\n"
   ]
  },
  {
   "cell_type": "code",
   "execution_count": 6,
   "metadata": {},
   "outputs": [],
   "source": [
    "test = pd.read_csv('C:\\\\Users\\\\AFFAN SHAIKH\\\\Desktop\\\\workspace\\\\GOT_Battle_Of_Blackwater_v2_FINAL\\\\test.csv')\n",
    "\n",
    "test.head()\n",
    "#dataset.drop([\"soldierId\",\"shipId\",\"farthermostKill\"],axis=1,inplace=True)\n",
    "\n",
    "test.drop([\"Unnamed: 0\",\"index\",\"soldierId\",\"attackId\",\"shipId\",\"farthermostKill\"],axis=1,inplace=True)\n",
    "test.head()\n",
    "\n",
    "sc=StandardScaler()\n",
    "test=sc.fit_transform(test)\n"
   ]
  },
  {
   "cell_type": "code",
   "execution_count": 10,
   "metadata": {},
   "outputs": [],
   "source": [
    "predictions = model.predict(test)\n",
    "predictions1=model1.predict(test)\n",
    "y_pred=np.asarray(predictions[:,0])\n",
    "y_pred = y_pred.clip(min=0)\n",
    "y_pred1=np.asarray(predictions1[:,0])\n",
    "y_pred1 = y_pred1.clip(min=0)\n",
    "\n",
    "\n",
    "\n",
    "predictionsLR=regr.predict(test)\n",
    "\n",
    "\n",
    "y_predLR=np.asarray(predictionsLR)\n",
    "y_predLR = y_predLR.clip(min=0)\n",
    "\n",
    "\n",
    "predictionsRF=rf.predict(test)\n",
    "\n",
    "\n",
    "y_predRF=np.asarray(predictionsRF)\n",
    "y_predRF = y_predRF.clip(min=0)\n",
    "\n",
    "\n",
    "\n",
    "\n",
    "hybrid=[]\n",
    "for i in range (len(y_pred)):\n",
    "    hybrid.append((y_pred[i]+y_predRF[i]+y_predLR[i])/3)"
   ]
  },
  {
   "cell_type": "code",
   "execution_count": 11,
   "metadata": {},
   "outputs": [
    {
     "name": "stdout",
     "output_type": "stream",
     "text": [
      "A submission file has been made\n"
     ]
    }
   ],
   "source": [
    "\n",
    "def make_submission(prediction, sub_name):\n",
    "  my_submission = pd.DataFrame({'soldierId':pd.read_csv('C:\\\\Users\\\\AFFAN SHAIKH\\\\Desktop\\\\workspace\\\\GOT_Battle_Of_Blackwater_v2_FINAL\\\\test.csv').soldierId,'bestSoldierPerc':prediction},columns=['soldierId','bestSoldierPerc'])\n",
    "  my_submission.to_csv('{}.csv'.format(sub_name),index=False)\n",
    "  print('A submission file has been made')\n",
    "\n",
    "\n",
    "\n",
    "make_submission(y_pred,'C:\\\\Users\\\\AFFAN SHAIKH\\\\Desktop\\\\workspace\\\\submission_final')\n",
    "\n"
   ]
  },
  {
   "cell_type": "code",
   "execution_count": 12,
   "metadata": {},
   "outputs": [
    {
     "data": {
      "text/plain": [
       "array([[1.        , 0.97371124],\n",
       "       [0.97371124, 1.        ]])"
      ]
     },
     "execution_count": 12,
     "metadata": {},
     "output_type": "execute_result"
    }
   ],
   "source": [
    "np.corrcoef(y_predRF,y_pred1)"
   ]
  },
  {
   "cell_type": "code",
   "execution_count": 13,
   "metadata": {},
   "outputs": [
    {
     "data": {
      "text/plain": [
       "array([[1.        , 0.91468316],\n",
       "       [0.91468316, 1.        ]])"
      ]
     },
     "execution_count": 13,
     "metadata": {},
     "output_type": "execute_result"
    }
   ],
   "source": [
    "np.corrcoef(y_predRF,y_predLR)"
   ]
  },
  {
   "cell_type": "code",
   "execution_count": 14,
   "metadata": {},
   "outputs": [
    {
     "data": {
      "text/plain": [
       "array([[1.        , 0.93802963],\n",
       "       [0.93802963, 1.        ]])"
      ]
     },
     "execution_count": 14,
     "metadata": {},
     "output_type": "execute_result"
    }
   ],
   "source": [
    "np.corrcoef(y_predLR,y_pred1)"
   ]
  },
  {
   "cell_type": "code",
   "execution_count": null,
   "metadata": {},
   "outputs": [],
   "source": []
  }
 ],
 "metadata": {
  "kernelspec": {
   "display_name": "Python 3",
   "language": "python",
   "name": "python3"
  },
  "language_info": {
   "codemirror_mode": {
    "name": "ipython",
    "version": 3
   },
   "file_extension": ".py",
   "mimetype": "text/x-python",
   "name": "python",
   "nbconvert_exporter": "python",
   "pygments_lexer": "ipython3",
   "version": "3.5.0"
  }
 },
 "nbformat": 4,
 "nbformat_minor": 2
}
